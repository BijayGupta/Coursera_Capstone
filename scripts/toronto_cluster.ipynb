{
 "cells": [
  {
   "cell_type": "markdown",
   "metadata": {},
   "source": [
    "This script relates to assignment on clustering neighborhoods in Toronto."
   ]
  },
  {
   "cell_type": "markdown",
   "metadata": {},
   "source": [
    "1. This segment of code scrapes wiki page and convert it to a dataframe in required format."
   ]
  },
  {
   "cell_type": "markdown",
   "metadata": {},
   "source": [
    "    a. Below code reads wiki table and create raw dataframe 'postal_df_wiki'"
   ]
  },
  {
   "cell_type": "code",
   "execution_count": 86,
   "metadata": {
    "scrolled": true
   },
   "outputs": [
    {
     "name": "stdout",
     "output_type": "stream",
     "text": [
      "(180, 3)\n"
     ]
    },
    {
     "data": {
      "text/html": [
       "<div>\n",
       "<style scoped>\n",
       "    .dataframe tbody tr th:only-of-type {\n",
       "        vertical-align: middle;\n",
       "    }\n",
       "\n",
       "    .dataframe tbody tr th {\n",
       "        vertical-align: top;\n",
       "    }\n",
       "\n",
       "    .dataframe thead th {\n",
       "        text-align: right;\n",
       "    }\n",
       "</style>\n",
       "<table border=\"1\" class=\"dataframe\">\n",
       "  <thead>\n",
       "    <tr style=\"text-align: right;\">\n",
       "      <th></th>\n",
       "      <th>Postal Code</th>\n",
       "      <th>Borough</th>\n",
       "      <th>Neighbourhood</th>\n",
       "    </tr>\n",
       "  </thead>\n",
       "  <tbody>\n",
       "    <tr>\n",
       "      <th>0</th>\n",
       "      <td>M1A</td>\n",
       "      <td>Not assigned</td>\n",
       "      <td>Not assigned</td>\n",
       "    </tr>\n",
       "    <tr>\n",
       "      <th>1</th>\n",
       "      <td>M2A</td>\n",
       "      <td>Not assigned</td>\n",
       "      <td>Not assigned</td>\n",
       "    </tr>\n",
       "    <tr>\n",
       "      <th>2</th>\n",
       "      <td>M3A</td>\n",
       "      <td>North York</td>\n",
       "      <td>Parkwoods</td>\n",
       "    </tr>\n",
       "    <tr>\n",
       "      <th>3</th>\n",
       "      <td>M4A</td>\n",
       "      <td>North York</td>\n",
       "      <td>Victoria Village</td>\n",
       "    </tr>\n",
       "    <tr>\n",
       "      <th>4</th>\n",
       "      <td>M5A</td>\n",
       "      <td>Downtown Toronto</td>\n",
       "      <td>Regent Park, Harbourfront</td>\n",
       "    </tr>\n",
       "  </tbody>\n",
       "</table>\n",
       "</div>"
      ],
      "text/plain": [
       "  Postal Code           Borough              Neighbourhood\n",
       "0         M1A      Not assigned               Not assigned\n",
       "1         M2A      Not assigned               Not assigned\n",
       "2         M3A        North York                  Parkwoods\n",
       "3         M4A        North York           Victoria Village\n",
       "4         M5A  Downtown Toronto  Regent Park, Harbourfront"
      ]
     },
     "execution_count": 86,
     "metadata": {},
     "output_type": "execute_result"
    }
   ],
   "source": [
    "import pandas as pd #import pandas\n",
    "\n",
    "url_wiki = 'https://en.wikipedia.org/wiki/List_of_postal_codes_of_Canada:_M' #define wiki url\n",
    "postal_df_wiki = pd.read_html(url_wiki)[0] # read table in dataframe using read_html\n",
    "print(postal_df_wiki.shape)\n",
    "postal_df_wiki.head()"
   ]
  },
  {
   "cell_type": "markdown",
   "metadata": {},
   "source": [
    "    b. Below code checks if there are rows with value 'Not assigned' in column 'Borough' and discards those rows from the dataframe. New dataframe is named 'post_df'"
   ]
  },
  {
   "cell_type": "code",
   "execution_count": 91,
   "metadata": {},
   "outputs": [
    {
     "name": "stdout",
     "output_type": "stream",
     "text": [
      "Number of rows with 'Not assigned' value in column 'Borough': 77\n",
      "Numbber of rows remaining: 103\n"
     ]
    }
   ],
   "source": [
    "#Find if 'Borough' column has any row with value 'Not assigned'\n",
    "na_borough = (len(postal_df_wiki[postal_df_wiki['Borough']!='Not assigned']))\n",
    "print(\"Number of rows with 'Not assigned' value in column 'Borough': \" + str(postal_df_wiki.shape[0]-na_borough))\n",
    "\n",
    "#remove rows with 'Not assigned' values if any in 'Borough' column\n",
    "if na_borough > 0:\n",
    "    post_df=postal_df_wiki.loc[postal_df_wiki['Borough']!='Not assigned']\n",
    "    \n",
    "print('Numbber of rows remaining: ' + str(post_df.shape[0]))"
   ]
  },
  {
   "cell_type": "markdown",
   "metadata": {},
   "source": [
    "    c. Below code checks if column 'Neighbourhood' has any row with value 'Not assigned', if there is then corresponding value from column 'Borough' is copied there."
   ]
  },
  {
   "cell_type": "code",
   "execution_count": 99,
   "metadata": {},
   "outputs": [
    {
     "name": "stdout",
     "output_type": "stream",
     "text": [
      "Number of rows to be replaced: 0\n"
     ]
    }
   ],
   "source": [
    "import numpy as np\n",
    "\n",
    "#Assign 'Borough' value if 'Neighbourhood' value is 'not assigned'\n",
    "\n",
    "print('Number of rows to be replaced: ' + str(len(post_df[post_df['Neighbourhood']=='Not assigned'])))\n",
    "\n",
    "if len(post_df[post_df['Neighbourhood']=='Not assigned']) > 0:\n",
    "    post_df['Neighbourhood'] = np.where(post_df['Neighbourhood']=='Not assigned',post_df['Borough'],post_df['Neighbourhood'])\n"
   ]
  },
  {
   "cell_type": "markdown",
   "metadata": {},
   "source": [
    "    d.Below code will merge values in 'Neighbourhood' rows with same 'Postal Code'."
   ]
  },
  {
   "cell_type": "code",
   "execution_count": 105,
   "metadata": {},
   "outputs": [
    {
     "name": "stdout",
     "output_type": "stream",
     "text": [
      "Number of repeated postal codes: 0\n"
     ]
    }
   ],
   "source": [
    "post_code = post_df.shape[0]-len(post_df['Postal Code'].unique())\n",
    "print('Number of repeated postal codes: ' + str(post_code))\n",
    "\n",
    "#Concatenate rows values of 'Neighbourhood' if 'Postal Code' is repeated\n",
    "if post_code > 0:\n",
    "    post_df.groupby(['Postal Code'])['Neighbourhood'].apply(','.join).reset_index()"
   ]
  },
  {
   "cell_type": "code",
   "execution_count": 109,
   "metadata": {},
   "outputs": [
    {
     "name": "stdout",
     "output_type": "stream",
     "text": [
      "Number of rows in data frame: 103\n"
     ]
    }
   ],
   "source": [
    "print('Number of rows in data frame: ' + str(post_df.shape[0]))"
   ]
  },
  {
   "cell_type": "markdown",
   "metadata": {},
   "source": [
    "    2. This segment of codes will add latitude and longitude columns to earlier dataframe."
   ]
  },
  {
   "cell_type": "markdown",
   "metadata": {},
   "source": [
    "    a.  Dataframe 'll_df' reads latitude and longitude from url provided."
   ]
  },
  {
   "cell_type": "code",
   "execution_count": null,
   "metadata": {},
   "outputs": [],
   "source": [
    "ll_url ='https://cocl.us/Geospatial_data' #url for csv with latitude and longitude mapped to postal codes\n",
    "ll_df = pd.read_csv(ll_url)\n",
    "ll_df.head()"
   ]
  },
  {
   "cell_type": "markdown",
   "metadata": {},
   "source": [
    "    b. Using merge method 'post_df' dataframe is joined to 'll_df', dataframe 'df' is merged dataframe."
   ]
  },
  {
   "cell_type": "code",
   "execution_count": null,
   "metadata": {},
   "outputs": [],
   "source": [
    "df = pd.merge(post_df,ll_df,on='Postal Code')\n",
    "df.head()"
   ]
  }
 ],
 "metadata": {
  "kernelspec": {
   "display_name": "Python 3",
   "language": "python",
   "name": "python3"
  },
  "language_info": {
   "codemirror_mode": {
    "name": "ipython",
    "version": 3
   },
   "file_extension": ".py",
   "mimetype": "text/x-python",
   "name": "python",
   "nbconvert_exporter": "python",
   "pygments_lexer": "ipython3",
   "version": "3.7.6"
  }
 },
 "nbformat": 4,
 "nbformat_minor": 4
}
